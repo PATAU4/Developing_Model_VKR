{
 "cells": [
  {
   "cell_type": "code",
   "execution_count": 1,
   "id": "ed9f93d9-ae1f-4e2c-9d64-0e362ea4cfdb",
   "metadata": {},
   "outputs": [],
   "source": [
    "\n",
    "import nltk\n",
    "from nltk.stem import SnowballStemmer\n",
    "from nltk.corpus import stopwords\n",
    "from nltk.tokenize import word_tokenize\n",
    "\n",
    "import time\n",
    "import pandas as pd\n",
    "import numpy as np\n",
    "\n",
    "\n",
    "import torch\n",
    "from torch.utils.data import Dataset, DataLoader, random_split\n",
    "import torch.nn as nn\n",
    "import torch.optim as optim\n",
    "\n",
    "\n",
    "from sklearn.model_selection import train_test_split\n",
    "from sklearn.metrics import accuracy_score\n",
    "from sklearn.preprocessing import LabelEncoder\n",
    "from sklearn.feature_extraction.text import CountVectorizer\n",
    "from sklearn import metrics\n",
    "\n",
    "import matplotlib.pyplot as plt\n",
    "import seaborn as sns\n",
    "\n",
    "snb_stemmer_ru = SnowballStemmer('russian')\n",
    "ru_stop_words = stopwords.words('russian')\n",
    "# morph = pymorphy2.MorphAnalyzer()\n"
   ]
  },
  {
   "cell_type": "code",
   "execution_count": 2,
   "id": "4e0dba74-deca-4098-9d82-ff7eae59ecba",
   "metadata": {},
   "outputs": [],
   "source": [
    "def get_data(data_path):\n",
    "    data_csv = (pd.read_csv(data_path)) \n",
    "    mask = data_csv['0'].notna()\n",
    "    data_csv = list(data_csv[mask]['0'])\n",
    "    return data_csv"
   ]
  },
  {
   "cell_type": "code",
   "execution_count": 3,
   "id": "8770f232-eb17-4d10-9c2c-cb6f1df99829",
   "metadata": {},
   "outputs": [],
   "source": [
    "pred_cultural_lst = get_data('pred_cultural_lst.csv')\n",
    "pred_economic_lst = get_data('pred_economic_lst.csv')\n",
    "pred_politics_lst = get_data('pred_politics_lst.csv')\n",
    "pred_science_lst = get_data('pred_science_lst.csv')\n",
    "pred_society_lst = get_data('pred_society_lst.csv')\n",
    "pred_sport_lst = get_data('pred_sport_lst.csv')"
   ]
  },
  {
   "cell_type": "code",
   "execution_count": 4,
   "id": "403ae31b-2923-4105-a635-8ad78c10388a",
   "metadata": {},
   "outputs": [
    {
     "data": {
      "text/plain": [
       "(31998, 32000, 33220, 31999, 27560, 31985)"
      ]
     },
     "execution_count": 4,
     "metadata": {},
     "output_type": "execute_result"
    }
   ],
   "source": [
    "len(pred_cultural_lst), len(pred_economic_lst), len(pred_politics_lst), len(pred_science_lst), len(pred_society_lst), len(pred_sport_lst)"
   ]
  },
  {
   "cell_type": "code",
   "execution_count": 5,
   "id": "3fc941c0-7bc8-4f43-b141-fb962cfcb6e5",
   "metadata": {},
   "outputs": [],
   "source": [
    "pred_cultural_lst = pred_cultural_lst[:17000]\n",
    "pred_economic_lst = pred_economic_lst[:17000]\n",
    "pred_politics_lst = pred_politics_lst[:17000]\n",
    "pred_science_lst = pred_science_lst[:17000]\n",
    "pred_society_lst = pred_society_lst[:17000]\n",
    "pred_sport_lst = pred_sport_lst[:17000]"
   ]
  },
  {
   "cell_type": "code",
   "execution_count": null,
   "id": "8ce89afa-7ffc-42d7-9e38-7fe658444a52",
   "metadata": {},
   "outputs": [],
   "source": []
  },
  {
   "cell_type": "code",
   "execution_count": 6,
   "id": "e582c5e4-f936-405f-8b65-0f1a12aae659",
   "metadata": {},
   "outputs": [],
   "source": [
    "dicted_data = {\n",
    "    \"category\":[],\n",
    "    \"text\":[] }"
   ]
  },
  {
   "cell_type": "code",
   "execution_count": 7,
   "id": "4cfec7e2-54f9-4ea5-8f4c-e71525fe4d29",
   "metadata": {},
   "outputs": [],
   "source": [
    "def creating_df(lst, category):\n",
    "    \n",
    "    for i in range(len(lst)):\n",
    "        dicted_data[\"category\"].append(category)\n",
    "    dicted_data[\"text\"].extend(lst)"
   ]
  },
  {
   "cell_type": "code",
   "execution_count": 8,
   "id": "01f42fc3-1bde-41db-89a3-34e0b7935523",
   "metadata": {},
   "outputs": [],
   "source": [
    "creating_df(pred_politics_lst, \"politics\")\n",
    "creating_df(pred_society_lst, \"society\")\n",
    "creating_df(pred_sport_lst, \"sport\")\n",
    "creating_df(pred_cultural_lst, \"cultural\")\n",
    "creating_df(pred_science_lst, \"science\")\n",
    "creating_df(pred_economic_lst, \"economic\")"
   ]
  },
  {
   "cell_type": "code",
   "execution_count": 9,
   "id": "e7e9133d-b3a1-4c13-a0d0-12bf10a04d03",
   "metadata": {},
   "outputs": [
    {
     "data": {
      "text/html": [
       "<div>\n",
       "<style scoped>\n",
       "    .dataframe tbody tr th:only-of-type {\n",
       "        vertical-align: middle;\n",
       "    }\n",
       "\n",
       "    .dataframe tbody tr th {\n",
       "        vertical-align: top;\n",
       "    }\n",
       "\n",
       "    .dataframe thead th {\n",
       "        text-align: right;\n",
       "    }\n",
       "</style>\n",
       "<table border=\"1\" class=\"dataframe\">\n",
       "  <thead>\n",
       "    <tr style=\"text-align: right;\">\n",
       "      <th></th>\n",
       "      <th>category</th>\n",
       "      <th>text</th>\n",
       "    </tr>\n",
       "  </thead>\n",
       "  <tbody>\n",
       "    <tr>\n",
       "      <th>0</th>\n",
       "      <td>politics</td>\n",
       "      <td>начало расследование российский вмешательство ...</td>\n",
       "    </tr>\n",
       "    <tr>\n",
       "      <th>1</th>\n",
       "      <td>politics</td>\n",
       "      <td>минобороны опубликовать видео полёт российский...</td>\n",
       "    </tr>\n",
       "    <tr>\n",
       "      <th>2</th>\n",
       "      <td>politics</td>\n",
       "      <td>житель великобритания платить семь евро посеще...</td>\n",
       "    </tr>\n",
       "    <tr>\n",
       "      <th>3</th>\n",
       "      <td>politics</td>\n",
       "      <td>россиянка мария бутин судить сша обвинение уча...</td>\n",
       "    </tr>\n",
       "    <tr>\n",
       "      <th>4</th>\n",
       "      <td>politics</td>\n",
       "      <td>пентагон проигнорировать обращение министр обо...</td>\n",
       "    </tr>\n",
       "    <tr>\n",
       "      <th>...</th>\n",
       "      <td>...</td>\n",
       "      <td>...</td>\n",
       "    </tr>\n",
       "    <tr>\n",
       "      <th>101995</th>\n",
       "      <td>economic</td>\n",
       "      <td>российский бизнесмен выводить свой актив велик...</td>\n",
       "    </tr>\n",
       "    <tr>\n",
       "      <th>101996</th>\n",
       "      <td>economic</td>\n",
       "      <td>европейский бизнес заинтересованный инвестиция...</td>\n",
       "    </tr>\n",
       "    <tr>\n",
       "      <th>101997</th>\n",
       "      <td>economic</td>\n",
       "      <td>валюта сразу несколько развивающийся страна ук...</td>\n",
       "    </tr>\n",
       "    <tr>\n",
       "      <th>101998</th>\n",
       "      <td>economic</td>\n",
       "      <td>украина ощущать сокращение реверсный поставка ...</td>\n",
       "    </tr>\n",
       "    <tr>\n",
       "      <th>101999</th>\n",
       "      <td>economic</td>\n",
       "      <td>сотовый оператор мтс ввести функция звонок меж...</td>\n",
       "    </tr>\n",
       "  </tbody>\n",
       "</table>\n",
       "<p>102000 rows × 2 columns</p>\n",
       "</div>"
      ],
      "text/plain": [
       "        category                                               text\n",
       "0       politics  начало расследование российский вмешательство ...\n",
       "1       politics  минобороны опубликовать видео полёт российский...\n",
       "2       politics  житель великобритания платить семь евро посеще...\n",
       "3       politics  россиянка мария бутин судить сша обвинение уча...\n",
       "4       politics  пентагон проигнорировать обращение министр обо...\n",
       "...          ...                                                ...\n",
       "101995  economic  российский бизнесмен выводить свой актив велик...\n",
       "101996  economic  европейский бизнес заинтересованный инвестиция...\n",
       "101997  economic  валюта сразу несколько развивающийся страна ук...\n",
       "101998  economic  украина ощущать сокращение реверсный поставка ...\n",
       "101999  economic  сотовый оператор мтс ввести функция звонок меж...\n",
       "\n",
       "[102000 rows x 2 columns]"
      ]
     },
     "execution_count": 9,
     "metadata": {},
     "output_type": "execute_result"
    }
   ],
   "source": [
    "df = pd.DataFrame(dicted_data)\n",
    "df"
   ]
  },
  {
   "cell_type": "code",
   "execution_count": 10,
   "id": "bce55e45-06ac-49fd-9f64-4596ab3f54c9",
   "metadata": {},
   "outputs": [
    {
     "data": {
      "text/plain": [
       "category\n",
       "politics    17000\n",
       "society     17000\n",
       "sport       17000\n",
       "cultural    17000\n",
       "science     17000\n",
       "economic    17000\n",
       "Name: count, dtype: int64"
      ]
     },
     "execution_count": 10,
     "metadata": {},
     "output_type": "execute_result"
    }
   ],
   "source": [
    "df['category'].value_counts()"
   ]
  },
  {
   "cell_type": "code",
   "execution_count": 11,
   "id": "e01a42ff-f130-4208-8e6e-75a3317a920b",
   "metadata": {},
   "outputs": [],
   "source": [
    "vectorizer = CountVectorizer(min_df=0.001, max_df=0.8)\n",
    "X = df['text']\n",
    "x_fit = vectorizer.fit(X)\n",
    "X = x_fit.transform(X)\n",
    "X = X.toarray()"
   ]
  },
  {
   "cell_type": "code",
   "execution_count": null,
   "id": "4012fbac-7a09-4a9d-a702-56b703ab7624",
   "metadata": {},
   "outputs": [],
   "source": [
    "\n"
   ]
  },
  {
   "cell_type": "code",
   "execution_count": 12,
   "id": "be0d0d41-2768-49a5-a482-390998f0086f",
   "metadata": {},
   "outputs": [],
   "source": [
    "bow = vectorizer.get_feature_names_out()"
   ]
  },
  {
   "cell_type": "code",
   "execution_count": 13,
   "id": "77b56aa3-ff49-4626-ad81-c95db0a272d3",
   "metadata": {},
   "outputs": [
    {
     "data": {
      "text/plain": [
       "array(['аарон', 'аборт', 'абрамс', ..., 'ёлка', 'ёмкость', 'ёнхап'],\n",
       "      dtype=object)"
      ]
     },
     "execution_count": 13,
     "metadata": {},
     "output_type": "execute_result"
    }
   ],
   "source": [
    "bow"
   ]
  },
  {
   "cell_type": "code",
   "execution_count": 14,
   "id": "73bbbe4e-99dd-4a65-a6ec-139930af654e",
   "metadata": {},
   "outputs": [],
   "source": [
    "# np.save('x_fit', x_fit)"
   ]
  },
  {
   "cell_type": "code",
   "execution_count": 15,
   "id": "8de2001c-7b3e-4c7d-bde6-0d4d8bab47e2",
   "metadata": {},
   "outputs": [],
   "source": [
    "# np.save('bow', bow)"
   ]
  },
  {
   "cell_type": "code",
   "execution_count": null,
   "id": "9c4ed43d-01b1-4cfd-bd36-fcf77a6a7d06",
   "metadata": {},
   "outputs": [],
   "source": []
  },
  {
   "cell_type": "code",
   "execution_count": 16,
   "id": "8d3382a8-3985-4018-8724-8d73d7216620",
   "metadata": {},
   "outputs": [],
   "source": [
    "le = LabelEncoder()\n",
    "y = df['category']\n",
    "encoder = le.fit(y) # применить label encoding\n",
    "y = le.transform(y)"
   ]
  },
  {
   "cell_type": "code",
   "execution_count": 17,
   "id": "ca02032b",
   "metadata": {},
   "outputs": [],
   "source": [
    "# politics = 2\n",
    "# economic = 1\n",
    "# society = 4\n",
    "# sport = 5\n",
    "# cultural = 0\n",
    "# science = 3"
   ]
  },
  {
   "cell_type": "code",
   "execution_count": null,
   "id": "a4542f9c",
   "metadata": {},
   "outputs": [],
   "source": []
  },
  {
   "cell_type": "code",
   "execution_count": null,
   "id": "52d5c455",
   "metadata": {},
   "outputs": [],
   "source": []
  },
  {
   "cell_type": "code",
   "execution_count": 18,
   "id": "81b8434e-42e9-41d0-a109-06a66e5741a6",
   "metadata": {},
   "outputs": [],
   "source": [
    "X_train, X_test, y_train, y_test = train_test_split(X, y, test_size=0.2,random_state=42)"
   ]
  },
  {
   "cell_type": "code",
   "execution_count": null,
   "id": "dbc69c69",
   "metadata": {},
   "outputs": [],
   "source": []
  },
  {
   "cell_type": "code",
   "execution_count": null,
   "id": "e2c18727-4979-4165-a069-a9f7cd456a6b",
   "metadata": {},
   "outputs": [],
   "source": []
  },
  {
   "cell_type": "code",
   "execution_count": null,
   "id": "adcb2e7d",
   "metadata": {},
   "outputs": [],
   "source": []
  },
  {
   "cell_type": "code",
   "execution_count": null,
   "id": "56687831",
   "metadata": {},
   "outputs": [],
   "source": []
  },
  {
   "cell_type": "code",
   "execution_count": 19,
   "id": "cd4c6cc1-2e36-40d5-a521-af60d2047ccd",
   "metadata": {},
   "outputs": [],
   "source": [
    "class NewsDataset(Dataset):\n",
    "    def __init__(self, X, y):\n",
    "        self.X = torch.tensor(np.array(X)) \n",
    "        self.y = torch.nn.functional.one_hot(torch.tensor(list(y)).long(), num_classes = 6)\n",
    "\n",
    "    def __len__(self):\n",
    "        return self.X.shape[0]\n",
    "\n",
    "    def __getitem__(self, idx): \n",
    "        return self.X[idx].float(), self.y[idx].float()\n"
   ]
  },
  {
   "cell_type": "code",
   "execution_count": null,
   "id": "e6f6feef",
   "metadata": {},
   "outputs": [],
   "source": []
  },
  {
   "cell_type": "code",
   "execution_count": 20,
   "id": "8e468cf8-b08f-4896-a01a-1cbc510b4a71",
   "metadata": {},
   "outputs": [],
   "source": [
    "BATCH_SIZE = 1024 \n",
    "\n",
    "train_dataset = NewsDataset(X_train, y_train) \n",
    "test_dataset = NewsDataset(X_test, y_test)\n",
    "\n",
    "\n",
    "valid_ratio = 0.2 \n",
    "num_valid =  int(valid_ratio * len(train_dataset)) \n",
    "num_train = len(train_dataset) - num_valid\n",
    "\n",
    "train_dataset, valid_dataset = random_split(dataset=train_dataset, lengths=[num_train, num_valid])\n",
    "\n",
    "\n",
    "train_loader = DataLoader(train_dataset, batch_size=BATCH_SIZE, shuffle=True) \n",
    "valid_loader = DataLoader(valid_dataset, batch_size=BATCH_SIZE)\n",
    "test_loader = DataLoader(test_dataset, batch_size=1)"
   ]
  },
  {
   "cell_type": "code",
   "execution_count": 21,
   "id": "643cd9ef-698c-4708-80e6-75f5ae05d35b",
   "metadata": {},
   "outputs": [
    {
     "data": {
      "text/plain": [
       "(64, 16, 20400)"
      ]
     },
     "execution_count": 21,
     "metadata": {},
     "output_type": "execute_result"
    }
   ],
   "source": [
    "len(train_loader), len(valid_loader), len(test_loader)"
   ]
  },
  {
   "cell_type": "code",
   "execution_count": null,
   "id": "5eec0ca0-eab2-484f-94c7-5cf68567a5b7",
   "metadata": {},
   "outputs": [],
   "source": []
  },
  {
   "cell_type": "code",
   "execution_count": 22,
   "id": "79f41e43",
   "metadata": {},
   "outputs": [],
   "source": [
    "class NeuralNet(nn.Module):\n",
    "    def __init__(self, input_size, hidden_size, num_classes, num_embeddings, embedding_dim):\n",
    "        super(NeuralNet, self).__init__()\n",
    "\n",
    "        self.rnn1 = torch.nn.RNN(input_size, 384)\n",
    "        self.relu1 = nn.ReLU()\n",
    "        \n",
    "        self.rnn2 = torch.nn.RNN(384, 384)\n",
    "        self.relu2 = nn.ReLU()\n",
    "        self.dropout1 = nn.Dropout(p=0.5)\n",
    "        \n",
    "        self.rnn3 = torch.nn.RNN(384, 384)\n",
    "        self.relu3 = nn.ReLU()\n",
    "\n",
    "        self.dropout2 = nn.Dropout(p=0.5)\n",
    "        \n",
    "        self.fc1 = nn.Linear(384, 64) \n",
    "        self.relu4 = nn.ReLU()\n",
    "\n",
    "        self.dropout3 = nn.Dropout(p=0.5)\n",
    "        \n",
    "        self.fc2 = nn.Linear(64, num_classes) \n",
    "        \n",
    "\n",
    "    \n",
    "    def forward(self, x):\n",
    "        x = x.view(x.size()[0], -1)\n",
    "\n",
    "        out, hn0 = self.rnn1(x)\n",
    "        out = self.relu1(out)\n",
    "        \n",
    "        out, hn1 = self.rnn2(out, hn0)\n",
    "        out = self.relu2(out)\n",
    "\n",
    "        out = self.dropout1(out)\n",
    "        \n",
    "        out, hn2 = self.rnn3(out, hn1)\n",
    "        out = self.relu3(out)\n",
    "\n",
    "        out = self.dropout2(out)\n",
    "        \n",
    "        out = self.fc1(out)\n",
    "        out = self.relu4(out)\n",
    "\n",
    "        out = self.dropout3(out)\n",
    "        \n",
    "        out = self.fc2(out)\n",
    "\n",
    "        return out"
   ]
  },
  {
   "cell_type": "code",
   "execution_count": 23,
   "id": "d0d0b737",
   "metadata": {},
   "outputs": [],
   "source": [
    "# class NeuralNet(nn.Module):\n",
    "#     def __init__(self, input_size, hidden_size, num_classes, num_embeddings, embedding_dim, numChannels):\n",
    "#         super(NeuralNet, self).__init__()\n",
    "        \n",
    "#         self.emb = torch.nn.Embedding(num_embeddings, embedding_dim)\n",
    "        \n",
    "#         self.conv = torch.nn.Conv2d(in_channels=numChannels, out_channels=1024, kernel_size=(5, 5))\n",
    "#         self.relu1 = nn.ReLU()\n",
    "        \n",
    "#         self.maxpool = torch.nn.MaxPool2d(kernel_size=(2, 2), stride=(2, 2))\n",
    "        \n",
    "#         self.rnn1 = torch.nn.RNN(input_size, hidden_size, num_layers=1, dropout=0.0)\n",
    "#         self.relu2 = nn.ReLU()\n",
    "        \n",
    "#         self.rnn2 = torch.nn.RNN(hidden_size, hidden_size, num_layers=1, dropout=0.0)\n",
    "#         self.relu3 = nn.ReLU()\n",
    "        \n",
    "#         self.rnn3 = torch.nn.RNN(hidden_size, hidden_size, num_layers=1, dropout=0.3)\n",
    "#         self.relu4 = nn.ReLU()\n",
    "        \n",
    "#         self.fc1 = nn.Linear(hidden_size, hidden_size) \n",
    "#         self.relu5 = nn.ReLU()\n",
    "        \n",
    "#         self.fc1 = nn.Linear(hidden_size, num_classes) \n",
    "        \n",
    "\n",
    "    \n",
    "#     def forward(self, x):\n",
    "#         x = x.view(x.size()[0], -1)\n",
    "#         out = self.emb(x)\n",
    "        \n",
    "#         out = self.conv(out)\n",
    "#         out = self.relu1(out)\n",
    "        \n",
    "#         out = self.maxpool(out)\n",
    "        \n",
    "#         out = self.rnn1(out)\n",
    "#         out = self.relu2(out)\n",
    "        \n",
    "#         out = self.rnn2(out)\n",
    "#         out = self.relu3(out)\n",
    "        \n",
    "#         out = self.rnn3(out)\n",
    "#         out = self.relu4(out)\n",
    "        \n",
    "#         out = self.fc1(out)\n",
    "#         out = self.relu5(out)\n",
    "        \n",
    "#         out = self.fc1(out)\n",
    "\n",
    "#         return out"
   ]
  },
  {
   "cell_type": "code",
   "execution_count": 24,
   "id": "ffbe04c9-b18d-4c48-99d8-88244d00d3fa",
   "metadata": {},
   "outputs": [],
   "source": [
    "# class NeuralNet(nn.Module):\n",
    "#     def __init__(self, input_size, hidden_size, num_classes):\n",
    "#         super(NeuralNet, self).__init__()\n",
    "        \n",
    "        \n",
    "        \n",
    "#         self.fc1 = nn.Linear(input_size, hidden_size) \n",
    "#         self.relu = nn.ReLU()\n",
    "#         self.fc2 = nn.Linear(hidden_size, num_classes) \n",
    "\n",
    "        \n",
    "\n",
    "    \n",
    "#     def forward(self, x):\n",
    "#         x = x.view(x.size()[0], -1)\n",
    "#         out = self.fc1(x)\n",
    "#         out = self.relu(out)\n",
    "#         out = self.fc2(out)\n",
    "#         return out"
   ]
  },
  {
   "cell_type": "code",
   "execution_count": 25,
   "id": "f164a9af-3da3-411c-b23e-88a7c189e3d8",
   "metadata": {},
   "outputs": [],
   "source": [
    "def train(model, loader, loss_function, optimizer, scheduler=None):\n",
    "    model.train() \n",
    "    epoch_loss = 0\n",
    "    \n",
    "    for inputs, labels in loader:\n",
    "        inputs, labels = inputs, labels\n",
    "        \n",
    "        outputs = model(inputs)\n",
    "        \n",
    "        loss = loss_function(outputs, labels)\n",
    "\n",
    "        \n",
    "        optimizer.zero_grad()\n",
    "        loss.backward()\n",
    "        optimizer.step()\n",
    "        \n",
    "        epoch_loss += loss.item()\n",
    "        \n",
    "    if scheduler is not None:\n",
    "        scheduler.step()\n",
    "    return epoch_loss / len(loader)"
   ]
  },
  {
   "cell_type": "code",
   "execution_count": 26,
   "id": "ab5b6230-9856-43ab-998e-64a6705c69a5",
   "metadata": {},
   "outputs": [],
   "source": [
    "def test(model, loader, loss_function):\n",
    "    with torch.no_grad():\n",
    "        model.eval() #calculating metrics\n",
    "        N = 0\n",
    "        total_loss = 0.0\n",
    "        \n",
    "        for i, (inputs, labels) in enumerate(loader):\n",
    "            inputs = inputs\n",
    "            outputs = model(inputs)\n",
    "            N += inputs.shape[0]\n",
    "            loss = loss_function(outputs, labels)\n",
    "            total_loss += inputs.shape[0] * loss.item()\n",
    "        return total_loss / N"
   ]
  },
  {
   "cell_type": "code",
   "execution_count": 27,
   "id": "9d847eb4-aa8a-4142-bb2a-2100356fc246",
   "metadata": {},
   "outputs": [],
   "source": [
    "def test_labels(model, loader):\n",
    "    with torch.no_grad():\n",
    "        model.eval() #calculating metrics\n",
    "        predicts = []\n",
    "        for i, (inputs, labels) in enumerate(loader):\n",
    "            inputs = inputs\n",
    "            outputs = model(inputs)\n",
    "            predicts.append(outputs.argmax())\n",
    "        return predicts"
   ]
  },
  {
   "cell_type": "code",
   "execution_count": 28,
   "id": "692ed137-dc84-437f-a2e2-6b4459390646",
   "metadata": {},
   "outputs": [],
   "source": [
    "input_size = X.shape[1]\n",
    "\n",
    "hidden_size = 256\n",
    "num_classes = len(le.classes_)\n",
    "model = NeuralNet(input_size, hidden_size, num_classes, num_embeddings=16, embedding_dim=6)\n",
    "device = 'cuda' if torch.cuda.is_available() else 'cpu'\n",
    "model.to(device)\n",
    "\n",
    "criterion = nn.CrossEntropyLoss()\n",
    "optimizer = optim.Adam(model.parameters(), lr=.001)"
   ]
  },
  {
   "cell_type": "code",
   "execution_count": 29,
   "id": "5b03f478-03c2-4254-be23-e7f25dacd213",
   "metadata": {},
   "outputs": [
    {
     "name": "stdout",
     "output_type": "stream",
     "text": [
      "Epoch 0\n",
      "Train loss 0.940397 | Val loss 0.274105\n",
      "---\n",
      "Epoch 1\n",
      "Train loss 0.280584 | Val loss 0.245818\n",
      "---\n",
      "Epoch 2\n",
      "Train loss 0.207676 | Val loss 0.254682\n",
      "---\n",
      "Epoch 3\n",
      "Train loss 0.160963 | Val loss 0.266697\n",
      "---\n",
      "Test Loss 0.294827\n"
     ]
    }
   ],
   "source": [
    "num_epochs = 4\n",
    "train_losses = []\n",
    "val_losses = []\n",
    "for epoch in range(num_epochs):\n",
    "    train_loss = train(model, loader=train_loader, loss_function=criterion, optimizer=optimizer, scheduler=None)\n",
    "    val_loss = test(model=model, loader=valid_loader, loss_function=criterion)\n",
    "    train_losses.append(train_loss)\n",
    "    val_losses.append(val_loss)\n",
    "    if epoch % 1 == 0:\n",
    "        print(f'Epoch {epoch}')\n",
    "        print(f'Train loss {train_loss:.6f} | Val loss {val_loss:.6f}')\n",
    "        print('---')\n",
    "\n",
    "test_loss = test(model=model, loader=test_loader, loss_function=criterion)\n",
    "print(f'Test Loss {test_loss:.6f}')"
   ]
  },
  {
   "cell_type": "code",
   "execution_count": 30,
   "id": "d0bbfc02-0a51-40bc-ac54-bb24371cab2f",
   "metadata": {},
   "outputs": [
    {
     "data": {
      "image/png": "[encoded data removed]",
      "text/plain": [
       "<Figure size 640x480 with 1 Axes>"
      ]
     },
     "metadata": {},
     "output_type": "display_data"
    }
   ],
   "source": [
    "import matplotlib.pyplot as plt\n",
    "\n",
    "with torch.no_grad():\n",
    "    plt.plot(train_losses)\n",
    "    plt.plot(val_losses)"
   ]
  },
  {
   "cell_type": "code",
   "execution_count": 31,
   "id": "96dde6e5-1e87-4194-91ca-f0acaa4edded",
   "metadata": {},
   "outputs": [
    {
     "name": "stdout",
     "output_type": "stream",
     "text": [
      "              precision    recall  f1-score   support\n",
      "\n",
      "           0       0.97      0.94      0.95      3512\n",
      "           1       0.94      0.92      0.93      3429\n",
      "           2       0.91      0.83      0.87      3732\n",
      "           3       0.96      0.95      0.96      3464\n",
      "           4       0.75      0.90      0.82      2820\n",
      "           5       0.98      0.99      0.98      3443\n",
      "\n",
      "    accuracy                           0.92     20400\n",
      "   macro avg       0.92      0.92      0.92     20400\n",
      "weighted avg       0.92      0.92      0.92     20400\n",
      "\n"
     ]
    }
   ],
   "source": [
    "from sklearn.metrics import classification_report\n",
    "with torch.no_grad():\n",
    "    print(classification_report(test_labels(model=model, loader=test_loader), y_test, zero_division=True))"
   ]
  },
  {
   "cell_type": "code",
   "execution_count": 34,
   "id": "95e6209b-23c7-4926-9665-8d477f787147",
   "metadata": {},
   "outputs": [],
   "source": [
    "torch.save(model.state_dict(), 'model_v2')"
   ]
  },
  {
   "cell_type": "code",
   "execution_count": null,
   "id": "9e3b7799-b15f-4716-9de1-e89ba6d174ec",
   "metadata": {},
   "outputs": [],
   "source": [
    "#  precision    recall  f1-score   support\n",
    "\n",
    "#            0       0.94      0.96      0.95      3068\n",
    "#            1       0.96      0.89      0.92      3410\n",
    "#            2       0.85      0.88      0.87      3060\n",
    "#            3       0.96      0.94      0.95      3305\n",
    "#            4       0.83      0.84      0.84      3126\n",
    "#            5       0.96      0.99      0.97      3231\n",
    "\n",
    "#     accuracy                           0.92     19200\n",
    "#    macro avg       0.92      0.92      0.92     19200\n",
    "# weighted avg       0.92      0.92      0.92     19200\n"
   ]
  }
 ],
 "metadata": {
  "kernelspec": {
   "display_name": "Python 3",
   "language": "python",
   "name": "python3"
  },
  "language_info": {
   "codemirror_mode": {
    "name": "ipython",
    "version": 3
   },
   "file_extension": ".py",
   "mimetype": "text/x-python",
   "name": "python",
   "nbconvert_exporter": "python",
   "pygments_lexer": "ipython3",
   "version": "3.8.8"
  }
 },
 "nbformat": 4,
 "nbformat_minor": 5
}
